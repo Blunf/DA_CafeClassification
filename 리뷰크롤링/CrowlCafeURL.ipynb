{
 "cells": [
  {
   "cell_type": "markdown",
   "id": "0cc60a0d",
   "metadata": {},
   "source": [
    "URL 크롤링 (잘안됨)"
   ]
  },
  {
   "cell_type": "code",
   "execution_count": 2,
   "id": "1a6c3a12",
   "metadata": {},
   "outputs": [
    {
     "name": "stdout",
     "output_type": "stream",
     "text": [
      "총 추출된 카페 URL 개수: 0\n",
      "[]\n",
      "✅ CSV 파일로 저장 완료\n"
     ]
    }
   ],
   "source": [
    "from selenium import webdriver\n",
    "from selenium.webdriver.common.by import By\n",
    "from selenium.webdriver.chrome.service import Service\n",
    "from webdriver_manager.chrome import ChromeDriverManager\n",
    "import time\n",
    "\n",
    "options = webdriver.ChromeOptions()\n",
    "options.add_argument('--start-maximized')\n",
    "driver = webdriver.Chrome(service=Service(ChromeDriverManager().install()), options=options)\n",
    "\n",
    "search_url = \"https://map.naver.com/p/search/건대입구%20카페\"\n",
    "driver.get(search_url)\n",
    "time.sleep(5)\n",
    "\n",
    "# ...existing code...\n",
    "cafe_urls = []\n",
    "page = 1\n",
    "\n",
    "while True:\n",
    "    driver.switch_to.default_content()\n",
    "    driver.switch_to.frame(\"searchIframe\")\n",
    "    time.sleep(2)\n",
    "    cafes = driver.find_elements(By.CSS_SELECTOR, 'a.place_bluelink')\n",
    "    for cafe in cafes:\n",
    "        href = cafe.get_attribute('href')\n",
    "        if href and '/place/' in href:\n",
    "            review_url = href.split('?')[0] + '?c=17.22,0,0,0,dh&placePath=/review'\n",
    "            if review_url not in cafe_urls:\n",
    "                cafe_urls.append(review_url)\n",
    "    # 다음 페이지 버튼 찾기\n",
    "    try:\n",
    "        next_btn = driver.find_element(By.CSS_SELECTOR, 'a._2Ar8-aEUTq[data-direction=\"next\"]')\n",
    "        # 버튼이 비활성화면 종료\n",
    "        if 'disabled' in next_btn.get_attribute('class'):\n",
    "            break\n",
    "        next_btn.click()\n",
    "        page += 1\n",
    "        time.sleep(3)\n",
    "    except:\n",
    "        break\n",
    "import pandas as pd\n",
    "# ...existing code...\n",
    "\n",
    "driver.quit()\n",
    "print(f\"총 추출된 카페 URL 개수: {len(cafe_urls)}\")\n",
    "print(cafe_urls)\n",
    "\n",
    "# CSV로 저장\n",
    "df = pd.DataFrame(cafe_urls, columns=['카페URL'])\n",
    "df.to_csv(\"건대입구_카페URL목록.csv\", index=False, encoding='utf-8-sig')\n",
    "print(\"✅ CSV 파일로 저장 완료\")\n",
    "# ...existing code..."
   ]
  }
 ],
 "metadata": {
  "kernelspec": {
   "display_name": "Python 3",
   "language": "python",
   "name": "python3"
  },
  "language_info": {
   "codemirror_mode": {
    "name": "ipython",
    "version": 3
   },
   "file_extension": ".py",
   "mimetype": "text/x-python",
   "name": "python",
   "nbconvert_exporter": "python",
   "pygments_lexer": "ipython3",
   "version": "3.10.11"
  }
 },
 "nbformat": 4,
 "nbformat_minor": 5
}
