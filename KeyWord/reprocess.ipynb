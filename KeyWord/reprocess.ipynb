{
 "cells": [
  {
   "cell_type": "code",
   "execution_count": 1,
   "id": "1a396e6c",
   "metadata": {},
   "outputs": [
    {
     "data": {
      "text/html": [
       "<div>\n",
       "<style scoped>\n",
       "    .dataframe tbody tr th:only-of-type {\n",
       "        vertical-align: middle;\n",
       "    }\n",
       "\n",
       "    .dataframe tbody tr th {\n",
       "        vertical-align: top;\n",
       "    }\n",
       "\n",
       "    .dataframe thead th {\n",
       "        text-align: right;\n",
       "    }\n",
       "</style>\n",
       "<table border=\"1\" class=\"dataframe\">\n",
       "  <thead>\n",
       "    <tr style=\"text-align: right;\">\n",
       "      <th></th>\n",
       "      <th>카페이름</th>\n",
       "      <th>review</th>\n",
       "    </tr>\n",
       "  </thead>\n",
       "  <tbody>\n",
       "    <tr>\n",
       "      <th>0</th>\n",
       "      <td>FFEE</td>\n",
       "      <td>아메라카노 원두 세가지 중에 고를 수 있어서 취향에 맞게 먹을 수 있어 좋아요. 물...</td>\n",
       "    </tr>\n",
       "    <tr>\n",
       "      <th>1</th>\n",
       "      <td>MouseRabbit카페</td>\n",
       "      <td>노트북 작업하기 좋은 곳이에용. 지하는 좌식이고 분위기가 다르네요. 좀 더 따뜻한 ...</td>\n",
       "    </tr>\n",
       "    <tr>\n",
       "      <th>2</th>\n",
       "      <td>TAKEN COFFEE 건대후문점카페,디저트</td>\n",
       "      <td>저의 최애커피집이에요 너무 맛있고 좋아요 점심에 항상 바쁜데도 늘 친절해요\\r\\n음...</td>\n",
       "    </tr>\n",
       "    <tr>\n",
       "      <th>3</th>\n",
       "      <td>TWG Tea 성수낙낙점</td>\n",
       "      <td>모든 소품들이 twg 로고가 박혀있어 정말 고급스러워서 대접 받는 느낌에 더 맛나게...</td>\n",
       "    </tr>\n",
       "    <tr>\n",
       "      <th>4</th>\n",
       "      <td>걈카페,디저트</td>\n",
       "      <td>조아요 커피 맛있어요! 케이크도! 진짜 아지트같은 카페에여ㅠㅠ최애 좌석이 편하고 콘...</td>\n",
       "    </tr>\n",
       "  </tbody>\n",
       "</table>\n",
       "</div>"
      ],
      "text/plain": [
       "                       카페이름                                             review\n",
       "0                      FFEE  아메라카노 원두 세가지 중에 고를 수 있어서 취향에 맞게 먹을 수 있어 좋아요. 물...\n",
       "1             MouseRabbit카페  노트북 작업하기 좋은 곳이에용. 지하는 좌식이고 분위기가 다르네요. 좀 더 따뜻한 ...\n",
       "2  TAKEN COFFEE 건대후문점카페,디저트  저의 최애커피집이에요 너무 맛있고 좋아요 점심에 항상 바쁜데도 늘 친절해요\\r\\n음...\n",
       "3             TWG Tea 성수낙낙점  모든 소품들이 twg 로고가 박혀있어 정말 고급스러워서 대접 받는 느낌에 더 맛나게...\n",
       "4                   걈카페,디저트  조아요 커피 맛있어요! 케이크도! 진짜 아지트같은 카페에여ㅠㅠ최애 좌석이 편하고 콘..."
      ]
     },
     "execution_count": 1,
     "metadata": {},
     "output_type": "execute_result"
    }
   ],
   "source": [
    "import pandas as pd\n",
    "\n",
    "df = pd.read_csv('Rdata.csv')\n",
    "\n",
    "df.head()\n"
   ]
  },
  {
   "cell_type": "code",
   "execution_count": null,
   "id": "a14668a7",
   "metadata": {},
   "outputs": [
    {
     "name": "stdout",
     "output_type": "stream",
     "text": [
      "원본 데이터 수: 215\n",
      "필터링 후 데이터 수: 213\n",
      "제거된 데이터 수: 2\n",
      "\n",
      "제거된 카페: ['앤딩스터디카페 자양점' '카공족 어린이대공원역점스터디카페']\n"
     ]
    }
   ],
   "source": [
    "import pandas as pd\n",
    "\n",
    "df = pd.read_csv('Rdata.csv')\n",
    "\n",
    "df_filtered = df[~df['카페이름'].str.contains('스터디카페', na=False)]\n",
    "\n",
    "print(f\"원본 데이터 수: {len(df)}\")\n",
    "print(f\"필터링 후 데이터 수: {len(df_filtered)}\")\n",
    "print(f\"제거된 데이터 수: {len(df) - len(df_filtered)}\")\n",
    "\n",
    "removed_cafes = df[df['카페이름'].str.contains('스터디카페', na=False)]['카페이름'].unique()\n",
    "print(f\"\\n제거된 카페: {removed_cafes}\")\n",
    "\n",
    "df_filtered.to_csv('Rdata_1.csv', index=False, encoding='utf-8-sig')"
   ]
  }
 ],
 "metadata": {
  "kernelspec": {
   "display_name": "Python 3",
   "language": "python",
   "name": "python3"
  },
  "language_info": {
   "codemirror_mode": {
    "name": "ipython",
    "version": 3
   },
   "file_extension": ".py",
   "mimetype": "text/x-python",
   "name": "python",
   "nbconvert_exporter": "python",
   "pygments_lexer": "ipython3",
   "version": "3.10.6"
  }
 },
 "nbformat": 4,
 "nbformat_minor": 5
}
