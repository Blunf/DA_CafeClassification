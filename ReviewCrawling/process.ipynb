{
 "cells": [
  {
   "cell_type": "code",
   "execution_count": 1,
   "id": "a8ea656d",
   "metadata": {},
   "outputs": [
    {
     "name": "stdout",
     "output_type": "stream",
     "text": [
      "새로운 파일이 생성되었습니다: Cafe_Data.csv\n"
     ]
    }
   ],
   "source": [
    "import pandas as pd\n",
    "\n",
    "# 기존 데이터 파일 읽기\n",
    "input_file = \"CrowledData.csv\"\n",
    "data = pd.read_csv(input_file)\n",
    "\n",
    "# 필요한 열만 추출 (인덱스 번호, 카페이름, URL)\n",
    "output_data = data[['카페이름', 'url']].drop_duplicates().reset_index(drop=True)\n",
    "output_data.reset_index(inplace=True)\n",
    "output_data.rename(columns={'index': '인덱스번호'}, inplace=True)\n",
    "\n",
    "# 새로운 CSV 파일 저장\n",
    "output_file = \"Cafe_Data.csv\"\n",
    "output_data.to_csv(output_file, index=False, encoding='utf-8-sig')\n",
    "\n",
    "print(f\"새로운 파일이 생성되었습니다: {output_file}\")\n"
   ]
  },
  {
   "cell_type": "code",
   "execution_count": null,
   "id": "c742a95a",
   "metadata": {},
   "outputs": [
    {
     "data": {
      "text/html": [
       "<div>\n",
       "<style scoped>\n",
       "    .dataframe tbody tr th:only-of-type {\n",
       "        vertical-align: middle;\n",
       "    }\n",
       "\n",
       "    .dataframe tbody tr th {\n",
       "        vertical-align: top;\n",
       "    }\n",
       "\n",
       "    .dataframe thead th {\n",
       "        text-align: right;\n",
       "    }\n",
       "</style>\n",
       "<table border=\"1\" class=\"dataframe\">\n",
       "  <thead>\n",
       "    <tr style=\"text-align: right;\">\n",
       "      <th></th>\n",
       "      <th>Column1</th>\n",
       "      <th>카페이름</th>\n",
       "      <th>url</th>\n",
       "      <th>홈url</th>\n",
       "      <th>review</th>\n",
       "      <th>sentiment</th>\n",
       "      <th>confidence</th>\n",
       "    </tr>\n",
       "  </thead>\n",
       "  <tbody>\n",
       "    <tr>\n",
       "      <th>1</th>\n",
       "      <td>2</td>\n",
       "      <td>투또톤토</td>\n",
       "      <td>https://map.naver.com/p/search/건대입구 카페/place/1...</td>\n",
       "      <td>https://map.naver.com/p/search/%EA%B1%B4%EB%8C...</td>\n",
       "      <td>아침먹고 투또톤토에 갔어요~ 여유롭게 시간 보내기가 좋아요~ 포장하면 할인되고요~ㅎ...</td>\n",
       "      <td>Neutral</td>\n",
       "      <td>0.4055</td>\n",
       "    </tr>\n",
       "    <tr>\n",
       "      <th>2</th>\n",
       "      <td>4</td>\n",
       "      <td>투또톤토</td>\n",
       "      <td>https://map.naver.com/p/search/건대입구 카페/place/1...</td>\n",
       "      <td>https://map.naver.com/p/search/%EA%B1%B4%EB%8C...</td>\n",
       "      <td>매장이 엄청 넓고 인테리어도 모던하니 예뻤어요ㅎㅎ\\n커피에 진짜 진심인 카페였습니다...</td>\n",
       "      <td>Very Positive</td>\n",
       "      <td>0.7247</td>\n",
       "    </tr>\n",
       "    <tr>\n",
       "      <th>3</th>\n",
       "      <td>6</td>\n",
       "      <td>투또톤토</td>\n",
       "      <td>https://map.naver.com/p/search/건대입구 카페/place/1...</td>\n",
       "      <td>https://map.naver.com/p/search/%EA%B1%B4%EB%8C...</td>\n",
       "      <td>건대입구 오픈했을때부터 애용하는 카페 투또톤토입니다!(아직도 이름이 헷갈려요)\\n\\...</td>\n",
       "      <td>Very Positive</td>\n",
       "      <td>0.4722</td>\n",
       "    </tr>\n",
       "    <tr>\n",
       "      <th>4</th>\n",
       "      <td>8</td>\n",
       "      <td>투또톤토</td>\n",
       "      <td>https://map.naver.com/p/search/건대입구 카페/place/1...</td>\n",
       "      <td>https://map.naver.com/p/search/%EA%B1%B4%EB%8C...</td>\n",
       "      <td>아침 일찍오니 빵 종류가 많네요. 좋아하는 말차빵이 있어 얼른 get했어요. 샐러드...</td>\n",
       "      <td>Positive</td>\n",
       "      <td>0.3388</td>\n",
       "    </tr>\n",
       "    <tr>\n",
       "      <th>5</th>\n",
       "      <td>9</td>\n",
       "      <td>투또톤토</td>\n",
       "      <td>https://map.naver.com/p/search/건대입구 카페/place/1...</td>\n",
       "      <td>https://map.naver.com/p/search/%EA%B1%B4%EB%8C...</td>\n",
       "      <td>쌀쌀한 날 따뜻한 라떼가 너무 맛있어요.\\n카페에 들어왔을 때 나는 빵 냄새랑 커피...</td>\n",
       "      <td>Very Positive</td>\n",
       "      <td>0.5238</td>\n",
       "    </tr>\n",
       "    <tr>\n",
       "      <th>...</th>\n",
       "      <td>...</td>\n",
       "      <td>...</td>\n",
       "      <td>...</td>\n",
       "      <td>...</td>\n",
       "      <td>...</td>\n",
       "      <td>...</td>\n",
       "      <td>...</td>\n",
       "    </tr>\n",
       "    <tr>\n",
       "      <th>16039</th>\n",
       "      <td>20878</td>\n",
       "      <td>카페롬곡카페</td>\n",
       "      <td>https://map.naver.com/p/search/건대입구 카페/place/1...</td>\n",
       "      <td>https://map.naver.com/p/search/%EA%B1%B4%EB%8C...</td>\n",
       "      <td>와플 맛집!!! 세종대 근처에서 와플이 먹고싶을때 자주 옵니다아</td>\n",
       "      <td>Very Positive</td>\n",
       "      <td>0.5783</td>\n",
       "    </tr>\n",
       "    <tr>\n",
       "      <th>16040</th>\n",
       "      <td>20879</td>\n",
       "      <td>카페롬곡카페</td>\n",
       "      <td>https://map.naver.com/p/search/건대입구 카페/place/1...</td>\n",
       "      <td>https://map.naver.com/p/search/%EA%B1%B4%EB%8C...</td>\n",
       "      <td>재방문인데 커피랑 빙수가 진짜 맛있어요 빙수전문카페보다 맛있습니다 사장님 더 대박나세용</td>\n",
       "      <td>Neutral</td>\n",
       "      <td>0.3012</td>\n",
       "    </tr>\n",
       "    <tr>\n",
       "      <th>16041</th>\n",
       "      <td>20880</td>\n",
       "      <td>카페롬곡카페</td>\n",
       "      <td>https://map.naver.com/p/search/건대입구 카페/place/1...</td>\n",
       "      <td>https://map.naver.com/p/search/%EA%B1%B4%EB%8C...</td>\n",
       "      <td>와플 전문집</td>\n",
       "      <td>Neutral</td>\n",
       "      <td>0.3901</td>\n",
       "    </tr>\n",
       "    <tr>\n",
       "      <th>16042</th>\n",
       "      <td>20882</td>\n",
       "      <td>카페롬곡카페</td>\n",
       "      <td>https://map.naver.com/p/search/건대입구 카페/place/1...</td>\n",
       "      <td>https://map.naver.com/p/search/%EA%B1%B4%EB%8C...</td>\n",
       "      <td>분위기가 따뜻하고 좋아요\\n사장님이 친절하세요</td>\n",
       "      <td>Positive</td>\n",
       "      <td>0.4618</td>\n",
       "    </tr>\n",
       "    <tr>\n",
       "      <th>16043</th>\n",
       "      <td>20883</td>\n",
       "      <td>카페롬곡카페</td>\n",
       "      <td>https://map.naver.com/p/search/건대입구 카페/place/1...</td>\n",
       "      <td>https://map.naver.com/p/search/%EA%B1%B4%EB%8C...</td>\n",
       "      <td>친구들과 같이 방문했는데 인테리어가 예쁘고 음료와 와플이 맛있었어요!!</td>\n",
       "      <td>Positive</td>\n",
       "      <td>0.5766</td>\n",
       "    </tr>\n",
       "  </tbody>\n",
       "</table>\n",
       "<p>13823 rows × 7 columns</p>\n",
       "</div>"
      ],
      "text/plain": [
       "       Column1    카페이름                                                url  \\\n",
       "1            2    투또톤토  https://map.naver.com/p/search/건대입구 카페/place/1...   \n",
       "2            4    투또톤토  https://map.naver.com/p/search/건대입구 카페/place/1...   \n",
       "3            6    투또톤토  https://map.naver.com/p/search/건대입구 카페/place/1...   \n",
       "4            8    투또톤토  https://map.naver.com/p/search/건대입구 카페/place/1...   \n",
       "5            9    투또톤토  https://map.naver.com/p/search/건대입구 카페/place/1...   \n",
       "...        ...     ...                                                ...   \n",
       "16039    20878  카페롬곡카페  https://map.naver.com/p/search/건대입구 카페/place/1...   \n",
       "16040    20879  카페롬곡카페  https://map.naver.com/p/search/건대입구 카페/place/1...   \n",
       "16041    20880  카페롬곡카페  https://map.naver.com/p/search/건대입구 카페/place/1...   \n",
       "16042    20882  카페롬곡카페  https://map.naver.com/p/search/건대입구 카페/place/1...   \n",
       "16043    20883  카페롬곡카페  https://map.naver.com/p/search/건대입구 카페/place/1...   \n",
       "\n",
       "                                                    홈url  \\\n",
       "1      https://map.naver.com/p/search/%EA%B1%B4%EB%8C...   \n",
       "2      https://map.naver.com/p/search/%EA%B1%B4%EB%8C...   \n",
       "3      https://map.naver.com/p/search/%EA%B1%B4%EB%8C...   \n",
       "4      https://map.naver.com/p/search/%EA%B1%B4%EB%8C...   \n",
       "5      https://map.naver.com/p/search/%EA%B1%B4%EB%8C...   \n",
       "...                                                  ...   \n",
       "16039  https://map.naver.com/p/search/%EA%B1%B4%EB%8C...   \n",
       "16040  https://map.naver.com/p/search/%EA%B1%B4%EB%8C...   \n",
       "16041  https://map.naver.com/p/search/%EA%B1%B4%EB%8C...   \n",
       "16042  https://map.naver.com/p/search/%EA%B1%B4%EB%8C...   \n",
       "16043  https://map.naver.com/p/search/%EA%B1%B4%EB%8C...   \n",
       "\n",
       "                                                  review      sentiment  \\\n",
       "1      아침먹고 투또톤토에 갔어요~ 여유롭게 시간 보내기가 좋아요~ 포장하면 할인되고요~ㅎ...        Neutral   \n",
       "2      매장이 엄청 넓고 인테리어도 모던하니 예뻤어요ㅎㅎ\\n커피에 진짜 진심인 카페였습니다...  Very Positive   \n",
       "3      건대입구 오픈했을때부터 애용하는 카페 투또톤토입니다!(아직도 이름이 헷갈려요)\\n\\...  Very Positive   \n",
       "4      아침 일찍오니 빵 종류가 많네요. 좋아하는 말차빵이 있어 얼른 get했어요. 샐러드...       Positive   \n",
       "5      쌀쌀한 날 따뜻한 라떼가 너무 맛있어요.\\n카페에 들어왔을 때 나는 빵 냄새랑 커피...  Very Positive   \n",
       "...                                                  ...            ...   \n",
       "16039                와플 맛집!!! 세종대 근처에서 와플이 먹고싶을때 자주 옵니다아  Very Positive   \n",
       "16040   재방문인데 커피랑 빙수가 진짜 맛있어요 빙수전문카페보다 맛있습니다 사장님 더 대박나세용        Neutral   \n",
       "16041                                             와플 전문집        Neutral   \n",
       "16042                          분위기가 따뜻하고 좋아요\\n사장님이 친절하세요       Positive   \n",
       "16043            친구들과 같이 방문했는데 인테리어가 예쁘고 음료와 와플이 맛있었어요!!       Positive   \n",
       "\n",
       "       confidence  \n",
       "1          0.4055  \n",
       "2          0.7247  \n",
       "3          0.4722  \n",
       "4          0.3388  \n",
       "5          0.5238  \n",
       "...           ...  \n",
       "16039      0.5783  \n",
       "16040      0.3012  \n",
       "16041      0.3901  \n",
       "16042      0.4618  \n",
       "16043      0.5766  \n",
       "\n",
       "[13823 rows x 7 columns]"
      ]
     },
     "execution_count": 4,
     "metadata": {},
     "output_type": "execute_result"
    }
   ],
   "source": [
    "import pandas as pd\n",
    "\n",
    "df=pd.read_csv(\"CrowledData.csv\", encoding='utf-8-sig')\n",
    "\n",
    "df_clean = df[df['sentiment'].isin(['Positive', 'Very Positive', 'Neutral'])]\n",
    "\n",
    "# 카페별 리뷰 통합\n",
    "cafe_reviews = df_clean.groupby('카페이름')['review'].apply(lambda x: ' '.join(x)).reset_index()\n",
    "\n",
    "df_clean"
   ]
  },
  {
   "cell_type": "code",
   "execution_count": 3,
   "id": "d4282d11",
   "metadata": {},
   "outputs": [
    {
     "name": "stderr",
     "output_type": "stream",
     "text": [
      "Device set to use cpu\n",
      "100%|██████████| 300/300 [00:30<00:00,  9.82it/s]\n"
     ]
    },
    {
     "name": "stdout",
     "output_type": "stream",
     "text": [
      "                                                review   senti_2\n",
      "0    자리는 불편한데 빵은 맛있는 카페\\n\\n롤토르타(레몬)\\n레몬향이 한가득 나서 초반...  negative\n",
      "1    아침먹고 투또톤토에 갔어요~ 여유롭게 시간 보내기가 좋아요~ 포장하면 할인되고요~ㅎ...  positive\n",
      "2    매장이 엄청 넓고 인테리어도 모던하니 예뻤어요ㅎㅎ\\n커피에 진짜 진심인 카페였습니다...  positive\n",
      "3    건대입구 오픈했을때부터 애용하는 카페 투또톤토입니다!(아직도 이름이 헷갈려요)\\n\\...  positive\n",
      "4    아침 일찍오니 빵 종류가 많네요. 좋아하는 말차빵이 있어 얼른 get했어요. 샐러드...  positive\n",
      "..                                                 ...       ...\n",
      "295  성수역은 팝업스토어로 가끔 갔었는데 성수동 카페 까치화방을 방문하기는 처음이었어요\\...  positive\n",
      "296  성수 카페 까치화방 인테리어 정말 멋지고 다양한 케이크는 호텔급 퀄리티예요! 음료와...  positive\n",
      "297  성심당 딸기시루 스타일 케이크가 있다고 해서 예약후 방문했는데 카페 인테리어도 독특...  positive\n",
      "298  까치화방 성수카페맛집 성수낙낙 제 최애 카페 중 하나에요.. 인테리어도 너무 예쁘고...  positive\n",
      "299  케이크 종류도 크고 다양하고 ㅎㅎ\\n기념일에 케이크 사기 좋을듯요 !\\n그외에 베이...  positive\n",
      "\n",
      "[300 rows x 2 columns]\n",
      "분석 완료! 앞의 300개 리뷰만 처리했습니다.\n"
     ]
    }
   ],
   "source": [
    "import pandas as pd\n",
    "from transformers import pipeline\n",
    "\n",
    "# 데이터 로드\n",
    "df = pd.read_csv(\"CrowledData.csv\")\n",
    "\n",
    "# 감성 분석 모델 로드\n",
    "classifier = pipeline(\n",
    "    \"sentiment-analysis\", model=\"sangrimlee/bert-base-multilingual-cased-nsmc\")\n",
    "\n",
    "# tqdm으로 진행 상황 표시\n",
    "from tqdm import tqdm\n",
    "\n",
    "# 빈 리스트 생성\n",
    "sentiment_results = []\n",
    "\n",
    "# 처음 50개의 리뷰만 처리하도록 수정\n",
    "# df의 전체 길이가 50보다 작으면 전체를, 아니면 처음 50개만\n",
    "max_reviews = min(300, len(df))\n",
    "for review in tqdm(df['review'].head(max_reviews).fillna('')):\n",
    "    try:\n",
    "        # 빈 문자열이거나 너무 짧은 리뷰는 'Unknown'으로 처리\n",
    "        if len(review) < 1:\n",
    "            sentiment_results.append('Unknown')\n",
    "        else:\n",
    "            # 길이가 긴 리뷰는 처음 512 토큰만 사용\n",
    "            result = classifier(review[:512])[0]\n",
    "            sentiment_results.append(result['label'])\n",
    "    except Exception as e:\n",
    "        print(f\"Error processing review: {e}\")\n",
    "        sentiment_results.append('Error')\n",
    "\n",
    "# 앞의 50개 결과만 저장하고 나머지는 NaN으로 채우기\n",
    "df_sample = df.copy()\n",
    "df_sample['senti_2'] = pd.NA  # 모든 행을 NaN으로 초기화\n",
    "df_sample.loc[:max_reviews-1, 'senti_2'] = sentiment_results  # 앞의 50개만 결과 저장\n",
    "\n",
    "# 결과 저장 (테스트용이므로 다른 파일명으로 저장)\n",
    "df_sample.to_csv(\"CrowledData_with_sentiment_sample.csv\", index=False, encoding='utf-8-sig')\n",
    "\n",
    "# 결과 확인\n",
    "print(df_sample[['review', 'senti_2']].head(max_reviews))\n",
    "print(f\"분석 완료! 앞의 {max_reviews}개 리뷰만 처리했습니다.\")"
   ]
  },
  {
   "cell_type": "code",
   "execution_count": 4,
   "id": "e279cebf",
   "metadata": {},
   "outputs": [
    {
     "name": "stderr",
     "output_type": "stream",
     "text": [
      "Device set to use cpu\n",
      "100%|██████████| 16045/16045 [19:50<00:00, 13.48it/s] \n"
     ]
    },
    {
     "name": "stdout",
     "output_type": "stream",
     "text": [
      "                                              review   senti_2\n",
      "0  자리는 불편한데 빵은 맛있는 카페\\n\\n롤토르타(레몬)\\n레몬향이 한가득 나서 초반...  negative\n",
      "1  아침먹고 투또톤토에 갔어요~ 여유롭게 시간 보내기가 좋아요~ 포장하면 할인되고요~ㅎ...  positive\n",
      "2  매장이 엄청 넓고 인테리어도 모던하니 예뻤어요ㅎㅎ\\n커피에 진짜 진심인 카페였습니다...  positive\n",
      "3  건대입구 오픈했을때부터 애용하는 카페 투또톤토입니다!(아직도 이름이 헷갈려요)\\n\\...  positive\n",
      "4  아침 일찍오니 빵 종류가 많네요. 좋아하는 말차빵이 있어 얼른 get했어요. 샐러드...  positive\n",
      "분석 완료! 'senti_2' 열이 추가된 데이터가 저장되었습니다.\n"
     ]
    }
   ],
   "source": [
    "import pandas as pd\n",
    "from transformers import pipeline\n",
    "\n",
    "# 데이터 로드\n",
    "df = pd.read_csv(\"CrowledData.csv\")\n",
    "\n",
    "# 감성 분석 모델 로드\n",
    "classifier = pipeline(\n",
    "    \"sentiment-analysis\", model=\"sangrimlee/bert-base-multilingual-cased-nsmc\")\n",
    "\n",
    "# 리뷰 컬럼이 5번째 열이라면 (인덱스 4)\n",
    "# tqdm으로 진행 상황 표시\n",
    "from tqdm import tqdm\n",
    "\n",
    "# 빈 리스트 생성\n",
    "sentiment_results = []\n",
    "\n",
    "# 각 리뷰에 대해 감성 분석 수행\n",
    "for review in tqdm(df['review'].fillna('')):\n",
    "    try:\n",
    "        # 빈 문자열이거나 너무 짧은 리뷰는 'Unknown'으로 처리\n",
    "        if len(review) < 1:\n",
    "            sentiment_results.append('Unknown')\n",
    "        else:\n",
    "            # 길이가 긴 리뷰는 처음 512 토큰만 사용\n",
    "            result = classifier(review[:512])[0]\n",
    "            sentiment_results.append(result['label'])\n",
    "    except Exception as e:\n",
    "        print(f\"Error processing review: {e}\")\n",
    "        sentiment_results.append('Error')\n",
    "\n",
    "# 분석 결과를 새로운 'senti_2' 열에 추가\n",
    "df['senti_2'] = sentiment_results\n",
    "\n",
    "# 결과 저장\n",
    "df.to_csv(\"CrowledData_with_sentiment.csv\", index=False, encoding='utf-8-sig')\n",
    "\n",
    "# 결과 확인\n",
    "print(df[['review', 'senti_2']].head())\n",
    "print(f\"분석 완료! 'senti_2' 열이 추가된 데이터가 저장되었습니다.\")"
   ]
  },
  {
   "cell_type": "markdown",
   "id": "58962a1a",
   "metadata": {},
   "source": [
    "1열 제거 3열 제거 4열 제거 6열 제거 7열 제거"
   ]
  },
  {
   "cell_type": "code",
   "execution_count": 5,
   "id": "577942aa",
   "metadata": {},
   "outputs": [
    {
     "name": "stdout",
     "output_type": "stream",
     "text": [
      "지정된 열이 제거된 데이터가 저장되었습니다: R_Data_1.csv\n"
     ]
    }
   ],
   "source": [
    "import pandas as pd\n",
    "\n",
    "file_path = \"CrowledData.csv\"\n",
    "data = pd.read_csv(file_path, encoding='utf-8-sig')\n",
    "\n",
    "columns_to_remove = [0,2,3,5,6]\n",
    "data = data.drop(data.columns[columns_to_remove], axis=1)\n",
    "\n",
    "output_file = \"R_Data_1.csv\"\n",
    "data.to_csv(output_file, index=False, encoding='utf-8-sig')\n",
    "\n",
    "print(f\"지정된 열이 제거된 데이터가 저장되었습니다: {output_file}\")"
   ]
  },
  {
   "cell_type": "markdown",
   "id": "09d6358b",
   "metadata": {},
   "source": [
    "3열의 값이 \"negative\"인 행을 제거"
   ]
  },
  {
   "cell_type": "code",
   "execution_count": 3,
   "id": "0ce43936",
   "metadata": {},
   "outputs": [
    {
     "name": "stdout",
     "output_type": "stream",
     "text": [
      "3열의 값이 'negative'인 행이 제거된 데이터가 저장되었습니다: R_Data_2.csv\n"
     ]
    }
   ],
   "source": [
    "import pandas as pd\n",
    "\n",
    "file_path = \"R_Data_1.csv\"\n",
    "data = pd.read_csv(file_path, encoding='utf-8-sig')\n",
    "\n",
    "data = data[data.iloc[:, 2] != \"negative\"]\n",
    "\n",
    "output_file = \"R_Data_2.csv\"\n",
    "data.to_csv(output_file, index=False, encoding='utf-8-sig')\n",
    "\n",
    "print(f\"3열의 값이 'negative'인 행이 제거된 데이터가 저장되었습니다: {output_file}\")"
   ]
  },
  {
   "cell_type": "code",
   "execution_count": 6,
   "id": "a56fd14f",
   "metadata": {},
   "outputs": [
    {
     "name": "stdout",
     "output_type": "stream",
     "text": [
      "카페별 리뷰가 병합된 데이터가 저장되었습니다: R_Data_3.csv\n"
     ]
    }
   ],
   "source": [
    "import pandas as pd\n",
    "\n",
    "# 데이터 로드\n",
    "file_path = \"R_Data_2.csv\"\n",
    "data = pd.read_csv(file_path, encoding='utf-8-sig')\n",
    "\n",
    "# 각 카페 이름별로 리뷰 병합\n",
    "merged_reviews = data.groupby('카페이름')['review'].apply(lambda x: ' '.join(x)).reset_index()\n",
    "\n",
    "# 결과 저장\n",
    "output_file = \"R_Data_3.csv\"\n",
    "merged_reviews.to_csv(output_file, index=False, encoding='utf-8-sig')\n",
    "\n",
    "print(f\"카페별 리뷰가 병합된 데이터가 저장되었습니다: {output_file}\")"
   ]
  },
  {
   "cell_type": "markdown",
   "id": "e5611981",
   "metadata": {},
   "source": [
    "행개수 찾기"
   ]
  },
  {
   "cell_type": "code",
   "execution_count": null,
   "id": "074efc85",
   "metadata": {},
   "outputs": [
    {
     "name": "stdout",
     "output_type": "stream",
     "text": [
      "데이터프레임의 총 행 수: 215\n"
     ]
    }
   ],
   "source": [
    "import pandas as pd\n",
    "df = pd.read_csv(\"R_Data_3.csv\", encoding='utf-8-sig')\n",
    "print(f\"데이터프레임의 총 행 수: {len(df)}\")"
   ]
  }
 ],
 "metadata": {
  "kernelspec": {
   "display_name": "Python 3",
   "language": "python",
   "name": "python3"
  },
  "language_info": {
   "codemirror_mode": {
    "name": "ipython",
    "version": 3
   },
   "file_extension": ".py",
   "mimetype": "text/x-python",
   "name": "python",
   "nbconvert_exporter": "python",
   "pygments_lexer": "ipython3",
   "version": "3.10.11"
  }
 },
 "nbformat": 4,
 "nbformat_minor": 5
}
